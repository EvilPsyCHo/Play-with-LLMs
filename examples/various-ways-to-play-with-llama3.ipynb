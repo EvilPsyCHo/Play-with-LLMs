{
 "cells": [
  {
   "cell_type": "markdown",
   "metadata": {},
   "source": [
    "# 🚀多种方法调戏Llama3\n",
    "\n",
    "实践`transformers`, `llamacpp`, `vLLM`多种方法调戏Llama3-8B-Instruct，Llama3采用了新的ChatML，我们测试体验同时会观察tokenizer，chat_template是否很好的工作。我使用的模型权重文件来自：\n",
    "- https://huggingface.co/NousResearch/Meta-Llama-3-8B-Instruct\n",
    "- https://huggingface.co/bartowski/Meta-Llama-3-8B-Instruct-GGUF/tree/main"
   ]
  },
  {
   "cell_type": "markdown",
   "metadata": {},
   "source": [
    "### Llama3 with Transformers"
   ]
  },
  {
   "cell_type": "markdown",
   "metadata": {},
   "source": []
  },
  {
   "cell_type": "markdown",
   "metadata": {},
   "source": [
    "### Llamacpp"
   ]
  },
  {
   "cell_type": "markdown",
   "metadata": {},
   "source": []
  }
 ],
 "metadata": {
  "kernelspec": {
   "display_name": "gomars",
   "language": "python",
   "name": "python3"
  },
  "language_info": {
   "codemirror_mode": {
    "name": "ipython",
    "version": 3
   },
   "file_extension": ".py",
   "mimetype": "text/x-python",
   "name": "python",
   "nbconvert_exporter": "python",
   "pygments_lexer": "ipython3",
   "version": "3.10.0"
  }
 },
 "nbformat": 4,
 "nbformat_minor": 2
}
